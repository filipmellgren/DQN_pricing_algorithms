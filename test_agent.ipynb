{
 "cells": [
  {
   "cell_type": "code",
   "execution_count": 3,
   "metadata": {},
   "outputs": [],
   "source": [
    "# Loads agent from file. Useful to avoid training it again.\n",
    "import torch\n",
    "from torch import optim\n",
    "from dqn_model import Net\n",
    "import numpy as np\n",
    "from agent import Agent1 as Agent\n",
    "from experience_buffer import ExperienceBuffer\n",
    "from config import HYPERPARAMS\n",
    "from calc_nash_monopoly import actions_dict\n",
    "params = HYPERPARAMS['full_obs_NB']\n",
    "from cont_bertrand import ContBertrand\n",
    "from testing import testing\n",
    "\n",
    "\n",
    "\n",
    "REPLAY_SIZE = params['replay_size']\n",
    "#nA = params['nA']\n",
    "#LEARNING_RATE = params['learning_rate']\n",
    "LEARNING_RATE = 0.001\n",
    "nA = 7\n",
    "MEAN_C = 1\n",
    "MEAN_Q = 2\n",
    "A0 = 1\n",
    "MU = 1/2\n",
    "FIRMLIST = []\n",
    "\n",
    "for c in [MEAN_C]:\n",
    "    for q in [MEAN_Q]:\n",
    "        q = round(q, 2)\n",
    "        FIRMLIST.append({'cost': c, 'quality': q})\n",
    "NASH_ACTIONS = actions_dict(nA, A0, MU, FIRMLIST, FIRMLIST, \"nash\")\n",
    "MONOPOLY_ACTIONS = actions_dict(nA, A0, MU, FIRMLIST, FIRMLIST, \"monopoly\")\n",
    "\n",
    "\n",
    "eparams = {\n",
    "        'firmlist': FIRMLIST,\n",
    "        'a0': A0,\n",
    "        'mu': MU,\n",
    "        'nash_actions': NASH_ACTIONS,\n",
    "        'monopoly_actions': MONOPOLY_ACTIONS,\n",
    "        'randomness': 0\n",
    "        }\n",
    "\n",
    "firm0 = FIRMLIST[0]\n",
    "firm1 = firm0\n",
    "PATH = \"3499993_0.1checkpoint.pt\" # Special to this specification (dont know why)\n",
    "checkpoint = torch.load(PATH)\n",
    "model = Net(2,nA,8).to('cpu')\n",
    "optimizer = optim.Adam(model.parameters(), lr=LEARNING_RATE) \n",
    "model.load_state_dict(checkpoint['agent_state_dict'])\n",
    "optimizer.load_state_dict(checkpoint['optimizer_dict'])\n",
    "buffer = ExperienceBuffer(REPLAY_SIZE)\n",
    "env = ContBertrand(firm0, firm1, eparams)\n",
    "model.eval()\n",
    "agent = Agent(env, buffer, model, model, optimizer)"
   ]
  },
  {
   "cell_type": "code",
   "execution_count": 4,
   "metadata": {},
   "outputs": [],
   "source": [
    "testing(FIRMLIST, agent, params, eparams,'random_test.csv',0)"
   ]
  },
  {
   "cell_type": "code",
   "execution_count": null,
   "metadata": {},
   "outputs": [],
   "source": []
  },
  {
   "cell_type": "code",
   "execution_count": null,
   "metadata": {},
   "outputs": [],
   "source": []
  },
  {
   "cell_type": "code",
   "execution_count": null,
   "metadata": {},
   "outputs": [],
   "source": []
  }
 ],
 "metadata": {
  "kernelspec": {
   "display_name": "Python 3",
   "language": "python",
   "name": "python3"
  }
 },
 "nbformat": 4,
 "nbformat_minor": 2
}
