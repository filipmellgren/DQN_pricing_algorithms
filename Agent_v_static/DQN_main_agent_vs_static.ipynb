{
 "cells": [
  {
   "cell_type": "markdown",
   "metadata": {},
   "source": [
    "# Import packages"
   ]
  },
  {
   "cell_type": "code",
   "execution_count": 1,
   "metadata": {},
   "outputs": [],
   "source": [
    "import torch\n",
    "from torch import nn, optim\n",
    "import numpy as np\n",
    "from tensorboardX import SummaryWriter\n",
    "from dqn_model import Net\n",
    "import time\n",
    "from agent import Agent1 as Agent\n",
    "from experience_buffer import ExperienceBuffer\n",
    "from config import HYPERPARAMS\n",
    "from config import ECONPARAMS\n",
    "from config import calc_loss\n",
    "from cont_bertrand import ContBertrand\n",
    "from config import avg_profit_gain\n",
    "ENV = ContBertrand()\n",
    "import collections\n",
    "import os.path\n",
    "import time \n",
    "from static_tft import Tft\n",
    "# TODO: standardize input, zero mean unit variance. Or subtract mean divide by range\n",
    "# TODO: Run episodes. Reward agent discounted future cash flow of converging."
   ]
  },
  {
   "cell_type": "markdown",
   "metadata": {},
   "source": [
    "# Declare parameter values"
   ]
  },
  {
   "cell_type": "code",
   "execution_count": 2,
   "metadata": {},
   "outputs": [],
   "source": [
    "Experience = collections.namedtuple('Experience', field_names=['state', 'action', 'reward', 'done', 'new_state'])\n",
    "\n",
    "params = HYPERPARAMS['full_obs_NB']\n",
    "BATCH_SIZE = params['batch_size']\n",
    "REPLAY_SIZE = params['replay_size']\n",
    "REPLAY_START_SIZE = params['replay_start_size']\n",
    "LEARNING_RATE = params['learning_rate']\n",
    "SYNC_TARGET_FRAMES = params['sync_target_frames']\n",
    "EPSILON_DECAY_LAST_FRAME = params['epsilon_decay_last_frame']\n",
    "EPSILON_START = params['epsilon_start']\n",
    "EPSILON_FINAL = params['epsilon_final']\n",
    "nA = params['nA']\n",
    "dO_a = params['dO_a']\n",
    "FRAMES = params['frames']\n",
    "SEED = params['seed']\n",
    "PATH = params['path']\n",
    "MONOPOLY_ACTION = ECONPARAMS['base_case']['monopoly_action']\n",
    "NASH_ACTION = ECONPARAMS['base_case']['nash_action']\n",
    "MONOPOLY_PROFIT = ECONPARAMS['base_case']['monopoly_profit']\n"
   ]
  },
  {
   "cell_type": "markdown",
   "metadata": {},
   "source": [
    "# Initialize objects"
   ]
  },
  {
   "cell_type": "code",
   "execution_count": 3,
   "metadata": {},
   "outputs": [
    {
     "name": "stdout",
     "output_type": "stream",
     "text": [
      "cpu\n"
     ]
    }
   ],
   "source": [
    "# PyTorch setup\n",
    "use_cuda = torch.cuda.is_available()\n",
    "device = torch.device('cuda' if use_cuda else 'cpu') # CPU when GPU is not available <-> device agnostic\n",
    "print(device)\n",
    "\n",
    "torch.manual_seed(SEED)\n",
    "if use_cuda:\n",
    "  torch.cuda.manual_seed(SEED)\n",
    "\n",
    "# Neural network model:\n",
    "net = Net(dO_a,nA).to(device)\n",
    "tgt_net = Net(dO_a,nA).to(device) # Prediction target.\n",
    "criterion = nn.MSELoss()\n",
    "optimizer = optim.Adam(net.parameters(), lr=LEARNING_RATE) \n",
    "buffer = ExperienceBuffer(REPLAY_SIZE)\n",
    "\n",
    "# Load pretrained nets and optimizers if they exist:\n",
    "if os.path.exists(PATH+\"nonsense\"):\n",
    "    checkpoint = torch.load(PATH)\n",
    "    agent.net.load_state_dict(checkpoint['agent0_state_dict'])\n",
    "    agent.optimizer.load_state_dict(checkpoint['optimizer0_dict'])\n",
    "    frame_idx = checkpoint['frame_idx']\n",
    "    epsilon = checkpoint['epsilon']\n",
    "    s_next = checkpoint['env_state']\n",
    "\n",
    "# Reinforcement learning environment\n",
    "env = ENV\n",
    "# RL agent\n",
    "agent = Agent(env, buffer, net, tgt_net, optimizer)\n",
    "# Static player # TODO need to convert actions to the same range as I'm in\n",
    "static = Tft(MONOPOLY_PROFIT[0], MONOPOLY_ACTION[0], NASH_ACTION[0])\n",
    "\n",
    "# Write output statistics to tensorboard\n",
    "writer = SummaryWriter(comment = \"-\")\n",
    "\n",
    "# Initialize variables\n",
    "env.seed(SEED) # TODO; is this used?\n",
    "torch.manual_seed(SEED)\n",
    "frame_idx = 0\n",
    "ts_frame = 0\n",
    "ts = time.time()\n",
    "s_next = env.reset()\n",
    "epsilon = EPSILON_START"
   ]
  },
  {
   "cell_type": "markdown",
   "metadata": {},
   "source": [
    "# Main loop\n"
   ]
  },
  {
   "cell_type": "code",
   "execution_count": null,
   "metadata": {},
   "outputs": [],
   "source": [
    "# Training – Main loop\n",
    "\n",
    "time_start = time.time()\n",
    "for t in range(1, FRAMES):\n",
    "    frame_idx += 1\n",
    "    epsilon = max(EPSILON_FINAL, EPSILON_START - frame_idx / EPSILON_DECAY_LAST_FRAME)\n",
    "    s = s_next\n",
    "    action0 = agent.act(net, s[np.array([0,1])], epsilon, device = device.type) # TODO: change obs space\n",
    "    action1 = static.act(s[1])\n",
    "    s_next, reward_n, done, _ = env.step(action0, action1, epsilon, frame_idx)\n",
    "    static.last_profit = reward_n[1]\n",
    "        \n",
    "    exp = Experience(s_next[np.array([0,1])], action0, reward_n[0], done, s[np.array([0,1])])\n",
    "    agent.exp_buffer.append(exp)\n",
    "    \n",
    "    if reward_n is not None:\n",
    "        reward = reward_n[0]\n",
    "        pg = avg_profit_gain(reward)\n",
    "        agent.total_pg.append(pg)\n",
    "\n",
    "        mean_pg = np.mean(agent.total_pg[-10000:])\n",
    "        writer.add_scalar(\"Agent_avg_profit\", mean_pg, frame_idx)\n",
    "       # if agent.best_mean_pg is None or agent.best_mean_pg < mean_pg or frame_idx % (SYNC_TARGET_FRAMES) == 0:\n",
    "        #    torch.save(agent.net.state_dict(),  \"-best.dat\") # TOOD, ever used?\n",
    "            #if agent.best_mean_pg is not None:\n",
    "             #   print(\"Best mean profit gain updated, %.1f: %.3f -> %.3f, model saved. Iteration: %.1f\" % (a, agent.best_mean_pg, mean_pg, frame_idx))\n",
    "            #agent.best_mean_pg = mean_pg\n",
    "        if agent.length_opt_act > 25_000: # TODO: Don't hardcode\n",
    "            print(\"Solved in %d frames!\" % frame_idx)\n",
    "            print(agent.length_opt_act)\n",
    "            break\n",
    "            \n",
    "    if len(agent.exp_buffer) < REPLAY_START_SIZE: \n",
    "        continue\n",
    "\n",
    "    if frame_idx % SYNC_TARGET_FRAMES == 0: # Update target network\n",
    "        agent.tgt_net.load_state_dict(agent.net.state_dict())\n",
    "        \n",
    "    batch = agent.exp_buffer.sample(BATCH_SIZE)\n",
    "    agent.optimizer.zero_grad()\n",
    "    loss_t = calc_loss(batch, agent.net, agent.tgt_net, device = device)\n",
    "    loss_t.backward()\n",
    "    # Gradient clipping\n",
    "    for param in agent.net.parameters():\n",
    "        param.grad.clamp_(-1, 1)\n",
    "    agent.optimizer.step()\n",
    "    writer.add_scalar(\"loss\", loss_t, frame_idx)\n",
    "    \n",
    "    if frame_idx % 100_000 == 0:\n",
    "        print(frame_idx)\n",
    "        torch.save({\n",
    "            'agent_state_dict': agent.net.state_dict(),\n",
    "            'optimizer_dict': agent.optimizer.state_dict(),\n",
    "            'epsilon': epsilon,\n",
    "            'frame_idx': frame_idx,\n",
    "            'env_state': s_next\n",
    "            },  \"checkpoints/\" + str(frame_idx) + PATH)\n",
    "    \n",
    "writer.close()\n",
    "time_stop = time.time()\n",
    "print(time_stop-time_start)"
   ]
  },
  {
   "cell_type": "code",
   "execution_count": null,
   "metadata": {},
   "outputs": [],
   "source": [
    "!tensorboard --logdir runs --host localhost\n",
    "# http://localhost:6006/"
   ]
  },
  {
   "cell_type": "code",
   "execution_count": null,
   "metadata": {},
   "outputs": [],
   "source": [
    "agent.best_action"
   ]
  },
  {
   "cell_type": "code",
   "execution_count": null,
   "metadata": {},
   "outputs": [],
   "source": []
  }
 ],
 "metadata": {
  "kernelspec": {
   "display_name": "Python 3",
   "language": "python",
   "name": "python3"
  },
  "language_info": {
   "codemirror_mode": {
    "name": "ipython",
    "version": 3
   },
   "file_extension": ".py",
   "mimetype": "text/x-python",
   "name": "python",
   "nbconvert_exporter": "python",
   "pygments_lexer": "ipython3",
   "version": "3.7.5"
  }
 },
 "nbformat": 4,
 "nbformat_minor": 2
}
